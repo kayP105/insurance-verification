{
 "cells": [
  {
   "cell_type": "code",
   "execution_count": 1,
   "id": "5c717d85",
   "metadata": {},
   "outputs": [
    {
     "name": "stdout",
     "output_type": "stream",
     "text": [
      "[LightGBM] [Info] Number of positive: 192, number of negative: 608\n",
      "[LightGBM] [Info] Auto-choosing col-wise multi-threading, the overhead of testing was 0.001529 seconds.\n",
      "You can set `force_col_wise=true` to remove the overhead.\n",
      "[LightGBM] [Info] Total Bins 2880\n",
      "[LightGBM] [Info] Number of data points in the train set: 800, number of used features: 37\n",
      "[LightGBM] [Info] [binary:BoostFromScore]: pavg=0.240000 -> initscore=-1.152680\n",
      "[LightGBM] [Info] Start training from score -1.152680\n",
      "[LightGBM] [Warning] No further splits with positive gain, best gain: -inf\n",
      "[LightGBM] [Warning] No further splits with positive gain, best gain: -inf\n",
      "[LightGBM] [Warning] No further splits with positive gain, best gain: -inf\n",
      "[LightGBM] [Warning] No further splits with positive gain, best gain: -inf\n",
      "[LightGBM] [Warning] No further splits with positive gain, best gain: -inf\n",
      "[LightGBM] [Warning] No further splits with positive gain, best gain: -inf\n",
      "[LightGBM] [Warning] No further splits with positive gain, best gain: -inf\n",
      "[LightGBM] [Warning] No further splits with positive gain, best gain: -inf\n",
      "[LightGBM] [Warning] No further splits with positive gain, best gain: -inf\n",
      "[LightGBM] [Warning] No further splits with positive gain, best gain: -inf\n",
      "Eligibility model trained and saved to backend/eligibility_model.pkl\n"
     ]
    }
   ],
   "source": [
    "import pandas as pd\n",
    "import lightgbm as lgb\n",
    "from sklearn.model_selection import train_test_split\n",
    "from sklearn.preprocessing import LabelEncoder\n",
    "import joblib\n",
    "\n",
    "# Load the dataset you downloaded\n",
    "df = pd.read_csv(\"../data/insurance_claims.csv\") # Adjust path\n",
    "\n",
    "# --- Feature Engineering ---\n",
    "# For this dataset, let's predict 'fraud_reported' as our \"eligibility\"\n",
    "# In a real case, this might be a different target.\n",
    "df = df.replace('?', pd.NA)\n",
    "\n",
    "# Simple preprocessing\n",
    "# Convert categorical variables to numbers\n",
    "categorical_cols = df.select_dtypes(include=['object']).columns\n",
    "for col in categorical_cols:\n",
    "    df[col] = df[col].astype(str) # Handle mixed types\n",
    "    le = LabelEncoder()\n",
    "    df[col] = le.fit_transform(df[col])\n",
    "\n",
    "# Fill missing values (simple)\n",
    "df = df.fillna(0)\n",
    "\n",
    "# Define features (X) and target (y)\n",
    "TARGET = 'fraud_reported' # 0 = Eligible (No Fraud), 1 = Not Eligible (Fraud)\n",
    "features = [col for col in df.columns if col not in [TARGET, 'policy_number']]\n",
    "\n",
    "X = df[features]\n",
    "y = df[TARGET]\n",
    "\n",
    "# Split data\n",
    "X_train, X_test, y_train, y_test = train_test_split(X, y, test_size=0.2, random_state=42)\n",
    "\n",
    "# Train LightGBM model\n",
    "d_train = lgb.Dataset(X_train, label=y_train)\n",
    "params = {\n",
    "    'objective': 'binary',\n",
    "    'metric': 'binary_logloss',\n",
    "    'boosting_type': 'gbdt',\n",
    "    'seed': 42\n",
    "}\n",
    "model = lgb.train(params, d_train, 100)\n",
    "\n",
    "# Save model to disk\n",
    "joblib.dump(model, '../backend/eligibility_model.pkl')\n",
    "\n",
    "print(\"Eligibility model trained and saved to backend/eligibility_model.pkl\")"
   ]
  },
  {
   "cell_type": "code",
   "execution_count": 2,
   "id": "d3b8160d",
   "metadata": {},
   "outputs": [
    {
     "name": "stdout",
     "output_type": "stream",
     "text": [
      "Fraud/Anomaly model trained and saved to backend/fraud_model.pkl\n"
     ]
    }
   ],
   "source": [
    "# ... (at the end of the notebook)\n",
    "from sklearn.ensemble import IsolationForest\n",
    "\n",
    "# Use the same features X from before\n",
    "# Isolation Forest doesn't need a target (y)\n",
    "anomaly_model = IsolationForest(contamination=0.05, random_state=42) # Assume 5% of data are anomalies\n",
    "anomaly_model.fit(X)\n",
    "\n",
    "# Save the model\n",
    "joblib.dump(anomaly_model, '../backend/fraud_model.pkl')\n",
    "print(\"Fraud/Anomaly model trained and saved to backend/fraud_model.pkl\")"
   ]
  }
 ],
 "metadata": {
  "kernelspec": {
   "display_name": "Python 3",
   "language": "python",
   "name": "python3"
  },
  "language_info": {
   "codemirror_mode": {
    "name": "ipython",
    "version": 3
   },
   "file_extension": ".py",
   "mimetype": "text/x-python",
   "name": "python",
   "nbconvert_exporter": "python",
   "pygments_lexer": "ipython3",
   "version": "3.12.2"
  }
 },
 "nbformat": 4,
 "nbformat_minor": 5
}
